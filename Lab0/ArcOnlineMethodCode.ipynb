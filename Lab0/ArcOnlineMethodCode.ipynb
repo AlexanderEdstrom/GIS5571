{
 "cells": [
  {
   "cell_type": "code",
   "execution_count": null,
   "metadata": {},
   "outputs": [],
   "source": [
    "from arcgis.gis import GIS\n",
    "gis = GIS(\"home\")\n",
    "\n",
    "# Item Added From Toolbar\n",
    "# Title: shp_trans_hi_frequency_transit_servc | Type: Feature Service | Owner: edstr117_UMN\n",
    "item = gis.content.get(\"7c1cc811f522437ebf297a6cc4668afb\")\n",
    "\n",
    "from arcgis import features\n",
    "buffer = features.use_proximity.create_buffers(\"item\", distances=[25], units='Meters')\n",
    "buffer"
   ]
  }
 ],
 "metadata": {
  "esriNotebookRuntime": {
   "notebookRuntimeName": "ArcGIS Notebook Python 3 Standard",
   "notebookRuntimeVersion": "5.0"
  },
  "kernelspec": {
   "display_name": "Python 3",
   "language": "python",
   "name": "python3"
  },
  "language_info": {
   "codemirror_mode": {
    "name": "ipython",
    "version": 3
   },
   "file_extension": ".py",
   "mimetype": "text/x-python",
   "name": "python",
   "nbconvert_exporter": "python",
   "pygments_lexer": "ipython3",
   "version": "3.7.9"
  }
 },
 "nbformat": 4,
 "nbformat_minor": 2
}

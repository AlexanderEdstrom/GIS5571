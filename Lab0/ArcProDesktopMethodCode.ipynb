{
 "cells": [
  {
   "cell_type": "code",
   "execution_count": 5,
   "metadata": {
    "collapsed": true
   },
   "outputs": [
    {
     "data": {
      "text/html": [
       "<h2>Output</h2>C:\\Users\\Alexander\\Desktop\\GIS Work\\GIS5571\\Lab0\\GIS5571 Lab0\\GIS5571 Lab0.gdb\\HighFrequencyNetwork_Buffer1<h2>Messages</h2>Start Time: Wednesday, September 22, 2021 5:29:16 PM<br/>Succeeded at Wednesday, September 22, 2021 5:29:17 PM (Elapsed Time: 0.41 seconds)<br/><style>.rendered_html td, .rendered_html th {text-align: left;}.rendered_html tbody {border: 1px solid black;}</style>"
      ],
      "text/plain": [
       "<Result 'C:\\\\Users\\\\Alexander\\\\Desktop\\\\GIS Work\\\\GIS5571\\\\Lab0\\\\GIS5571 Lab0\\\\GIS5571 Lab0.gdb\\\\HighFrequencyNetwork_Buffer1'>"
      ]
     },
     "execution_count": 5,
     "metadata": {},
     "output_type": "execute_result"
    }
   ],
   "source": [
    "import arcpy\n",
    "\n",
    "arcpy.analysis.Buffer(\"HighFrequencyNetwork\", r\"C:\\Users\\Alexander\\Desktop\\GIS Work\\GIS5571\\Lab0\\GIS5571 Lab0\\GIS5571 Lab0.gdb\\HighFrequencyNetwork_Buffer1\", \"25 Meters\", \"FULL\", \"ROUND\", \"NONE\", None, \"PLANAR\")\n"
   ]
  }
 ],
 "metadata": {
  "kernelspec": {
   "display_name": "ArcGISPro",
   "language": "Python",
   "name": "python3"
  },
  "language_info": {
   "file_extension": ".py",
   "name": "python",
   "version": "3"
  }
 },
 "nbformat": 4,
 "nbformat_minor": 2
}

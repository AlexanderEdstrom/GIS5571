{
  "cells": [
    {
      "cell_type": "markdown",
      "source": [
        "# City Growth Classification and Prediction\n",
        "## Alexander Edstrom\n",
        "### University Of Minnesota Fall 2021\n",
        "\n",
        ">Please see the attached README file for a general overview of this project as this jumps right into the code\n",
        "\n",
        ">This first cell just imports all of the required packages\n",
        "\n",
        "\n",
        "Shapely and Rasterio are the main packages used within the functions used to cut the raster up <br>TensorFlow is the main package that the image classifier uses "
      ],
      "metadata": {
        "id": "4dBco7bn_aiG"
      },
      "id": "4dBco7bn_aiG"
    },
    {
      "cell_type": "code",
      "execution_count": null,
      "id": "80bf5eaf",
      "metadata": {
        "colab": {
          "base_uri": "https://localhost:8080/"
        },
        "id": "80bf5eaf",
        "outputId": "095438ef-83ec-46bc-b356-dcc73323386b"
      },
      "outputs": [
        {
          "output_type": "stream",
          "name": "stdout",
          "text": [
            "TF version: 2.7.0\n",
            "Hub version: 0.12.0\n",
            "GPU is available\n"
          ]
        }
      ],
      "source": [
        "import numpy as np\n",
        "import rasterio\n",
        "from shapely import geometry\n",
        "from rasterio.mask import mask\n",
        "from PIL import Image\n",
        "\n",
        "import itertools\n",
        "import os\n",
        "import matplotlib.pylab as plt\n",
        "#import numpy as np\n",
        "import tensorflow as tf\n",
        "import tensorflow_hub as hub\n",
        "\n",
        "print(\"TF version:\", tf.__version__)\n",
        "print(\"Hub version:\", hub.__version__)\n",
        "print(\"GPU is\", \"available\" if tf.config.list_physical_devices('GPU') else \"NOT AVAILABLE\")"
      ]
    },
    {
      "cell_type": "markdown",
      "source": [
        ">This cell is a collection of functions that take in a raster image (in .tif form) and splice it into cells of a given size (in this case 512x512 for the image classifier\n",
        "\n",
        "##### I have done this step for you already, the original massive tif is not included within the project files. I have included a few of the cells for you to run a demo with if you want. See the README for details"
      ],
      "metadata": {
        "id": "NxoGz6XsAsfz"
      },
      "id": "NxoGz6XsAsfz"
    },
    {
      "cell_type": "code",
      "source": [
        "# This cell was adapted from Ciaran Evans on GIS Stack Exchange (https://gis.stackexchange.com/users/92704/ciaran-evans)\n",
        "\n",
        "test_file = \"Clip18F.tif\"\n",
        "dataset = rasterio.open(test_file)\n",
        "\n",
        "# Takes a Rasterio dataset and splits it into squares of dimensions squareDim * squareDim (again in this case it is 512x512 for the image clasifier)\n",
        "def splitImageIntoCells(img, filename, squareDim):\n",
        "    numberOfCellsWide = img.shape[1] // squareDim\n",
        "    numberOfCellsHigh = img.shape[0] // squareDim\n",
        "    x, y = 0, 0\n",
        "    count = 0\n",
        "    for hc in range(numberOfCellsHigh):\n",
        "        y = hc * squareDim\n",
        "        for wc in range(numberOfCellsWide):\n",
        "            x = wc * squareDim\n",
        "            geom = getTileGeom(img.transform, x, y, squareDim)\n",
        "            getCellFromGeom(img, geom, filename, count)\n",
        "            count = count + 1\n",
        "\n",
        "# Generate a bounding box from the pixel-wise coordinates using the original datasets transform property\n",
        "def getTileGeom(transform, x, y, squareDim):\n",
        "    corner1 = (x, y) * transform\n",
        "    corner2 = (x + squareDim, y + squareDim) * transform\n",
        "    return geometry.box(corner1[0], corner1[1],\n",
        "                        corner2[0], corner2[1])\n",
        "\n",
        "# Crop the dataset using the generated box and write it out as a GeoTIFF\n",
        "def getCellFromGeom(img, geom, filename, count):\n",
        "    crop, cropTransform = mask(img, [geom], crop=True)\n",
        "    writeImageAsGeoTIFF(crop,\n",
        "                        cropTransform,\n",
        "                        img.meta,\n",
        "                        img.crs,\n",
        "                        filename+\"_\"+str(count))\n",
        "\n",
        "# Write the passed in dataset as a GeoTIFF\n",
        "def writeImageAsGeoTIFF(img, transform, metadata, crs, filename):\n",
        "    metadata.update({\"driver\":\"GTiff\",\n",
        "                     \"height\":img.shape[1],\n",
        "                     \"width\":img.shape[2],\n",
        "                     \"transform\": transform,\n",
        "                     \"crs\": crs})\n",
        "    with rasterio.open(filename+\".tif\", \"w\", **metadata) as dest:\n",
        "        dest.write(img)\n",
        "\n",
        "#Run the functions on the given dataset with the specified size\n",
        "splitImageIntoCells(dataset,'Clip18F.tif', 512)"
      ],
      "metadata": {
        "id": "IDC2A0GhAy88"
      },
      "id": "IDC2A0GhAy88",
      "execution_count": null,
      "outputs": []
    },
    {
      "cell_type": "markdown",
      "source": [
        "### External Step Required:\n",
        "#### The cell above outputs the spliced raster cells as .tif files and the image classifier below only takes certain image file formats. As a result, the images needed to be converted into .jpg files first. I did this manually using an application that will convert them in batches. I know this is something that could certainly be done within the scope of the notebook but I was not able to get my conversion function working.\n",
        "\n",
        "## Beginning of the image classifier section\n",
        "This image classifier workflow and code is taken from a TensorFlow tutorial (https://www.tensorflow.org/hub/tutorials/tf2_image_retraining).<br>The main idea behind using a premade model is that we can leverage the concept of transfer learning by utilizing a model built for something similar, in this case image identification to classify flowers.\n",
        ">This cell selects the classification model that will be used to retrain into our classification model\n",
        "\n",
        "\n",
        "Tensorflow Hub gives accsses to hundreds of different models to train off of but after lots of research and trail and error it seems that the one that the Google tutorial was using to begin with worked the best for this purpose, the Efficient V2 XL 21k model.<br>\n"
      ],
      "metadata": {
        "id": "gtevA1axA6Hu"
      },
      "id": "gtevA1axA6Hu"
    },
    {
      "cell_type": "code",
      "execution_count": null,
      "id": "fbbfba92",
      "metadata": {
        "colab": {
          "base_uri": "https://localhost:8080/"
        },
        "id": "fbbfba92",
        "outputId": "a634eae6-f1e3-4f31-8a08-f4eeb7cb37ed"
      },
      "outputs": [
        {
          "output_type": "stream",
          "name": "stdout",
          "text": [
            "Selected model: efficientnetv2-xl-21k : https://tfhub.dev/google/imagenet/efficientnet_v2_imagenet21k_xl/feature_vector/2\n",
            "Input size (512, 512)\n"
          ]
        }
      ],
      "source": [
        "model_name = \"efficientnetv2-xl-21k\"\n",
        "\n",
        "model_handle_map = {\n",
        "\"efficientnetv2-xl-21k\": \"https://tfhub.dev/google/imagenet/efficientnet_v2_imagenet21k_xl/feature_vector/2\"}\n",
        "\n",
        "model_image_size_map = {\"efficientnetv2-xl-21k\": 512}\n",
        "\n",
        "model_handle = model_handle_map.get(model_name)\n",
        "pixels = model_image_size_map.get(model_name, 224)\n",
        "\n",
        "IMAGE_SIZE = (pixels, pixels)\n",
        "\n",
        "print(f\"Selected model: {model_name} : {model_handle}\")\n",
        "\n",
        "print(f\"Input size {IMAGE_SIZE}\")\n",
        "\n",
        "BATCH_SIZE = 16"
      ]
    },
    {
      "cell_type": "markdown",
      "source": [
        "After the data was converted to .jpg, I sorted a portion of it into two classes to use as the training and validation data. I did this by using supervised pixel based random trees classification and change detection within ArcPro to determine what percentage of pixels had changed between a classification of this image and an image of the same location from 1 year later. All images were taken from Sentinal 2. If the change in the given cell was larger than 12% I added it to my \"change\" group. If not, it went into the \"same\" group.\n",
        "\n",
        "> This cell pulls the data in, and builds a dataset using the data. The data is seperated into two folders \"change\" and \"same\" before this step. It takes in a folder of folders for this input. In this example \"ph_photos\" is the folder that contains \"change\" and \"same\" folders."
      ],
      "metadata": {
        "id": "1lBAu8mdCi0p"
      },
      "id": "1lBAu8mdCi0p"
    },
    {
      "cell_type": "code",
      "execution_count": null,
      "id": "2610777a",
      "metadata": {
        "colab": {
          "base_uri": "https://localhost:8080/"
        },
        "id": "2610777a",
        "outputId": "839fc46d-de20-46fd-9a88-684eebfffc5b"
      },
      "outputs": [
        {
          "output_type": "stream",
          "name": "stdout",
          "text": [
            "Found 20 files belonging to 3 classes.\n",
            "Using 16 files for training.\n",
            "Found 20 files belonging to 3 classes.\n",
            "Using 4 files for validation.\n"
          ]
        }
      ],
      "source": [
        "data_dir = (r'Final Project/phPhotos') # Depending on where you have the notebook saved you may need to change this path if you want to run it yourself\n",
        "\n",
        "def build_dataset(subset):\n",
        "  return tf.keras.preprocessing.image_dataset_from_directory(\n",
        "      data_dir,\n",
        "      validation_split=.20,\n",
        "      subset=subset,\n",
        "      label_mode=\"categorical\",\n",
        "      # Seed needs to provided when using validation_split and shuffle = True.\n",
        "      # A fixed seed is used so that the validation set is stable across runs.\n",
        "      seed=123,\n",
        "      image_size=IMAGE_SIZE,\n",
        "      batch_size=1)\n",
        "\n",
        "train_ds = build_dataset(\"training\")\n",
        "class_names = tuple(train_ds.class_names)\n",
        "train_size = train_ds.cardinality().numpy()\n",
        "train_ds = train_ds.unbatch().batch(BATCH_SIZE)\n",
        "train_ds = train_ds.repeat()\n",
        "\n",
        "normalization_layer = tf.keras.layers.Rescaling(1. / 255)\n",
        "preprocessing_model = tf.keras.Sequential([normalization_layer])\n",
        "do_data_augmentation = False\n",
        "if do_data_augmentation:\n",
        "  preprocessing_model.add(\n",
        "      tf.keras.layers.RandomRotation(40))\n",
        "  preprocessing_model.add(\n",
        "      tf.keras.layers.RandomTranslation(0, 0.2))\n",
        "  preprocessing_model.add(\n",
        "      tf.keras.layers.RandomTranslation(0.2, 0))\n",
        "  # Like the old tf.keras.preprocessing.image.ImageDataGenerator(),\n",
        "  # image sizes are fixed when reading, and then a random zoom is applied.\n",
        "  # If all training inputs are larger than image_size, one could also use\n",
        "  # RandomCrop with a batch size of 1 and rebatch later.\n",
        "  preprocessing_model.add(\n",
        "      tf.keras.layers.RandomZoom(0.2, 0.2))\n",
        "  preprocessing_model.add(\n",
        "      tf.keras.layers.RandomFlip(mode=\"horizontal\"))\n",
        "train_ds = train_ds.map(lambda images, labels:\n",
        "                        (preprocessing_model(images), labels))\n",
        "\n",
        "val_ds = build_dataset(\"validation\")\n",
        "valid_size = val_ds.cardinality().numpy()\n",
        "val_ds = val_ds.unbatch().batch(BATCH_SIZE)\n",
        "val_ds = val_ds.map(lambda images, labels:\n",
        "                    (normalization_layer(images), labels))"
      ]
    },
    {
      "cell_type": "markdown",
      "source": [
        ">This cell builds the model that was selected a couple cells up and defines the parameters to do so, both the dropout rate and regularization are choosen in this step. I also have it print a small summary of the model to see the layers and parameter count (That's a lot of parameters!)."
      ],
      "metadata": {
        "id": "6aUC7f97C0zZ"
      },
      "id": "6aUC7f97C0zZ"
    },
    {
      "cell_type": "code",
      "execution_count": null,
      "id": "79f9b1d0",
      "metadata": {
        "colab": {
          "base_uri": "https://localhost:8080/"
        },
        "id": "79f9b1d0",
        "outputId": "d592b09a-7fd2-49ff-87a7-4b38d24a165e"
      },
      "outputs": [
        {
          "output_type": "stream",
          "name": "stdout",
          "text": [
            "Building model with https://tfhub.dev/google/imagenet/efficientnet_v2_imagenet21k_xl/feature_vector/2\n",
            "Model: \"sequential_1\"\n",
            "_________________________________________________________________\n",
            " Layer (type)                Output Shape              Param #   \n",
            "=================================================================\n",
            " keras_layer (KerasLayer)    (None, 1280)              207615832 \n",
            "                                                                 \n",
            " dropout (Dropout)           (None, 1280)              0         \n",
            "                                                                 \n",
            " dense (Dense)               (None, 3)                 3843      \n",
            "                                                                 \n",
            "=================================================================\n",
            "Total params: 207,619,675\n",
            "Trainable params: 3,843\n",
            "Non-trainable params: 207,615,832\n",
            "_________________________________________________________________\n"
          ]
        }
      ],
      "source": [
        "# This fine tuning option should be turned on for doing a real run of the program, but for this demo I have turend it off to speed things up\n",
        "do_fine_tuning = False\n",
        "print(\"Building model with\", model_handle)\n",
        "model = tf.keras.Sequential([\n",
        "    # Explicitly define the input shape so the model can be properly\n",
        "    # loaded by the TFLiteConverter\n",
        "    tf.keras.layers.InputLayer(input_shape=IMAGE_SIZE + (3,)),\n",
        "    hub.KerasLayer(model_handle, trainable=do_fine_tuning),\n",
        "    tf.keras.layers.Dropout(rate=0.2),\n",
        "    tf.keras.layers.Dense(len(class_names),\n",
        "                          kernel_regularizer=tf.keras.regularizers.l2(0.0001))\n",
        "])\n",
        "model.build((None,)+IMAGE_SIZE+(3,))\n",
        "model.summary()"
      ]
    },
    {
      "cell_type": "markdown",
      "source": [
        ">The following cell simply compiles and trains the model, this is where you specify the other parameters not set within the building step. Hyperparameters like learning rate and momentum are set here, as well as the amount of epochs and the number of steps per epoch. For this demo it has been ran with 30 epochs."
      ],
      "metadata": {
        "id": "aXLuxz9XC8_c"
      },
      "id": "aXLuxz9XC8_c"
    },
    {
      "cell_type": "code",
      "execution_count": null,
      "id": "59453a93",
      "metadata": {
        "colab": {
          "base_uri": "https://localhost:8080/"
        },
        "id": "59453a93",
        "outputId": "c2a4856f-d665-4e14-e2e1-0c08a17bb775"
      },
      "outputs": [
        {
          "output_type": "stream",
          "name": "stdout",
          "text": [
            "Epoch 1/30\n",
            "1/1 [==============================] - 53s 53s/step - loss: 1.8142 - accuracy: 0.0625\n",
            "Epoch 2/30\n",
            "1/1 [==============================] - 3s 3s/step - loss: 0.8576 - accuracy: 0.6250\n",
            "Epoch 3/30\n",
            "1/1 [==============================] - 3s 3s/step - loss: 0.8931 - accuracy: 0.6250\n",
            "Epoch 4/30\n",
            "1/1 [==============================] - 3s 3s/step - loss: 1.0775 - accuracy: 0.5625\n",
            "Epoch 5/30\n",
            "1/1 [==============================] - 3s 3s/step - loss: 0.9036 - accuracy: 0.6875\n",
            "Epoch 6/30\n",
            "1/1 [==============================] - 3s 3s/step - loss: 1.1011 - accuracy: 0.5625\n",
            "Epoch 7/30\n",
            "1/1 [==============================] - 3s 3s/step - loss: 1.0181 - accuracy: 0.6875\n",
            "Epoch 8/30\n",
            "1/1 [==============================] - 3s 3s/step - loss: 0.9390 - accuracy: 0.7500\n",
            "Epoch 9/30\n",
            "1/1 [==============================] - 3s 3s/step - loss: 1.3403 - accuracy: 0.6875\n",
            "Epoch 10/30\n",
            "1/1 [==============================] - 3s 3s/step - loss: 0.9664 - accuracy: 0.8125\n",
            "Epoch 11/30\n",
            "1/1 [==============================] - 3s 3s/step - loss: 1.0731 - accuracy: 0.7500\n",
            "Epoch 12/30\n",
            "1/1 [==============================] - 3s 3s/step - loss: 1.1810 - accuracy: 0.7500\n",
            "Epoch 13/30\n",
            "1/1 [==============================] - 3s 3s/step - loss: 0.9250 - accuracy: 0.8125\n",
            "Epoch 14/30\n",
            "1/1 [==============================] - 3s 3s/step - loss: 0.9269 - accuracy: 0.8125\n",
            "Epoch 15/30\n",
            "1/1 [==============================] - 3s 3s/step - loss: 0.9618 - accuracy: 0.8125\n",
            "Epoch 16/30\n",
            "1/1 [==============================] - 3s 3s/step - loss: 0.8168 - accuracy: 0.8750\n",
            "Epoch 17/30\n",
            "1/1 [==============================] - 3s 3s/step - loss: 0.8967 - accuracy: 0.8125\n",
            "Epoch 18/30\n",
            "1/1 [==============================] - 3s 3s/step - loss: 0.7650 - accuracy: 0.9375\n",
            "Epoch 19/30\n",
            "1/1 [==============================] - 3s 3s/step - loss: 0.7009 - accuracy: 0.9375\n",
            "Epoch 20/30\n",
            "1/1 [==============================] - 3s 3s/step - loss: 0.7479 - accuracy: 0.8750\n",
            "Epoch 21/30\n",
            "1/1 [==============================] - 3s 3s/step - loss: 0.6363 - accuracy: 1.0000\n",
            "Epoch 22/30\n",
            "1/1 [==============================] - 3s 3s/step - loss: 0.7346 - accuracy: 0.8125\n",
            "Epoch 23/30\n",
            "1/1 [==============================] - 3s 3s/step - loss: 0.6293 - accuracy: 0.8750\n",
            "Epoch 24/30\n",
            "1/1 [==============================] - 3s 3s/step - loss: 0.6230 - accuracy: 0.8125\n",
            "Epoch 25/30\n",
            "1/1 [==============================] - 3s 3s/step - loss: 0.4759 - accuracy: 0.9375\n",
            "Epoch 26/30\n",
            "1/1 [==============================] - 3s 3s/step - loss: 0.4342 - accuracy: 1.0000\n",
            "Epoch 27/30\n",
            "1/1 [==============================] - 3s 3s/step - loss: 0.4577 - accuracy: 0.9375\n",
            "Epoch 28/30\n",
            "1/1 [==============================] - 3s 3s/step - loss: 0.5877 - accuracy: 0.8750\n",
            "Epoch 29/30\n",
            "1/1 [==============================] - 3s 3s/step - loss: 0.4733 - accuracy: 0.9375\n",
            "Epoch 30/30\n",
            "1/1 [==============================] - 3s 3s/step - loss: 0.4358 - accuracy: 1.0000\n"
          ]
        }
      ],
      "source": [
        "model.compile(\n",
        "  optimizer=tf.keras.optimizers.SGD(learning_rate=0.005, momentum=0.9), \n",
        "  loss=tf.keras.losses.CategoricalCrossentropy(from_logits=True, label_smoothing=0.1),\n",
        "  metrics=['accuracy'])\n",
        "\n",
        "steps_per_epoch = train_size // BATCH_SIZE\n",
        "validation_steps = valid_size // BATCH_SIZE\n",
        "hist = model.fit(\n",
        "    train_ds,\n",
        "    epochs=30, steps_per_epoch=steps_per_epoch,\n",
        "    validation_data=val_ds,\n",
        "    validation_steps=validation_steps).history"
      ]
    },
    {
      "cell_type": "markdown",
      "source": [
        ">This set of functions plots out the training results on a graph to better visualize the accuracy and loss as the model goes through its training steps."
      ],
      "metadata": {
        "id": "IsmPck3hDJKS"
      },
      "id": "IsmPck3hDJKS"
    },
    {
      "cell_type": "code",
      "execution_count": null,
      "id": "5b351754",
      "metadata": {
        "colab": {
          "base_uri": "https://localhost:8080/",
          "height": 566
        },
        "id": "5b351754",
        "outputId": "289fd218-221b-46e8-c433-c19e4b629884"
      },
      "outputs": [
        {
          "output_type": "execute_result",
          "data": {
            "text/plain": [
              "[<matplotlib.lines.Line2D at 0x7f4a4e22c410>]"
            ]
          },
          "metadata": {},
          "execution_count": 10
        },
        {
          "output_type": "display_data",
          "data": {
            "image/png": "[encoded data removed]",
            "text/plain": [
              "<Figure size 432x288 with 1 Axes>"
            ]
          },
          "metadata": {
            "needs_background": "light"
          }
        },
        {
          "output_type": "display_data",
          "data": {
            "image/png": "[encoded data removed]",
            "text/plain": [
              "<Figure size 432x288 with 1 Axes>"
            ]
          },
          "metadata": {
            "needs_background": "light"
          }
        }
      ],
      "source": [
        "\n",
        "plt.figure()\n",
        "plt.ylabel(\"Loss (training and validation)\")\n",
        "plt.xlabel(\"Training Steps\")\n",
        "plt.ylim([0,2])\n",
        "plt.plot(hist[\"loss\"])\n",
        "\n",
        "plt.figure()\n",
        "plt.ylabel(\"Accuracy (training and validation)\")\n",
        "plt.xlabel(\"Training Steps\")\n",
        "plt.ylim([0,1])\n",
        "plt.plot(hist[\"accuracy\"])"
      ]
    },
    {
      "cell_type": "markdown",
      "source": [
        ">Here is where the magic happens! This cell takes in an image that it didn't use for training and trys to guess what class it is. It will take the next vaildation image and make a prediction. After being sent through the model an entire image could be stitched back together to have each cell labeled as change or no change."
      ],
      "metadata": {
        "id": "SdKzomZBDQ_s"
      },
      "id": "SdKzomZBDQ_s"
    },
    {
      "cell_type": "code",
      "source": [
        "x, y = next(iter(val_ds))\n",
        "image = x[0, :, :, :]\n",
        "true_index = np.argmax(y[0])\n",
        "plt.imshow(image)\n",
        "plt.axis('off')\n",
        "plt.show()\n",
        "\n",
        "# Expand the validation image to (1, 224, 224, 3) before predicting the label\n",
        "prediction_scores = model.predict(np.expand_dims(image, axis=0))\n",
        "predicted_index = np.argmax(prediction_scores)\n",
        "print(\"True label: \" + class_names[true_index])\n",
        "print(\"Predicted label: \" + class_names[predicted_index])"
      ],
      "metadata": {
        "colab": {
          "base_uri": "https://localhost:8080/",
          "height": 283
        },
        "id": "5N4fY_ucNZh_",
        "outputId": "213fc12b-b318-438e-e16b-81d920b27cb5"
      },
      "id": "5N4fY_ucNZh_",
      "execution_count": null,
      "outputs": [
        {
          "output_type": "display_data",
          "data": {
            "image/png": "[encoded data removed]",
            "text/plain": [
              "<Figure size 432x288 with 1 Axes>"
            ]
          },
          "metadata": {
            "needs_background": "light"
          }
        },
        {
          "output_type": "stream",
          "name": "stdout",
          "text": [
            "True label: change\n",
            "Predicted label: change\n"
          ]
        }
      ]
    }
  ],
  "metadata": {
    "kernelspec": {
      "display_name": "Python 3",
      "language": "python",
      "name": "python3"
    },
    "language_info": {
      "codemirror_mode": {
        "name": "ipython",
        "version": 3
      },
      "file_extension": ".py",
      "mimetype": "text/x-python",
      "name": "python",
      "nbconvert_exporter": "python",
      "pygments_lexer": "ipython3",
      "version": "3.7.11"
    },
    "colab": {
      "name": "Classify.ipynb",
      "provenance": [],
      "collapsed_sections": []
    },
    "accelerator": "GPU"
  },
  "nbformat": 4,
  "nbformat_minor": 5
}
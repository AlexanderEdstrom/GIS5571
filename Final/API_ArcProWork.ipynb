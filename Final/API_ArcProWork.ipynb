{
 "cells": [
  {
   "cell_type": "code",
   "execution_count": null,
   "metadata": {},
   "outputs": [],
   "source": [
    "import requests\n",
    "import zipfile\n",
    "\n",
    "\n",
    "# This downloads the 2017 image, unzips it, and extracts it to the working directory\n",
    "r = requests.get('https://earthexplorer.usgs.gov/download/options/sentinel_2a/1776648/', auth=('user','pass'), verify = False) # This is where you would need to add your API key\n",
    "open('L1C_T12SVB_A010520_20170627T181924.zip', 'wb').write(r.content)\n",
    "\n",
    "with zipfile.ZipFile('L1C_T12SVB_A010520_20170627T181924.zip', 'r') as zip_ref:\n",
    "    zip_ref.extractall(r'C:\\Users\\Alexander\\Desktop\\GIS Work\\GIS5571\\GIS5571 Final\\GIS5571 Final.gdb\\')  # \"r\" is used to pass as raw string\n",
    "\n",
    "# This downloads the 2018 image, unzips it, and extracts it to the working directory\n",
    "req = requests.get('https://earthexplorer.usgs.gov/download/options/sentinel_2a/4470040/', auth=('user','pass'), verify = False) # API would go here as well\n",
    "open('L1C_T12SVB_A015811_20180702T182303.zip', 'wb').write(req.content)\n",
    "\n",
    "with zipfile.ZipFile('L1C_T12SVB_A015811_20180702T182303', 'r') as zip_ref:\n",
    "    zip_ref.extractall(r'C:\\Users\\Alexander\\Desktop\\GIS Work\\GIS5571\\GIS5571 Final\\GIS5571 Final.gdb\\')  # \"r\" is used to pass as raw string"
   ]
  },
  {
   "cell_type": "code",
   "execution_count": null,
   "metadata": {},
   "outputs": [],
   "source": [
    "# This cell clips the rasters down to the mask polygon of the study area which was made using the GUI\n",
    "# Clipping the 2017 Raster\n",
    "arcpy.management.Clip(\"L1C_T12SVB_A010520_20170627T181924\", \"399503.493949503 3655293.91467014 460228.776956608 3700482.37396411\", r\"C:\\Users\\Alexander\\Desktop\\GIS Work\\GIS5571\\GIS5571 Final\\GIS5571 Final.gdb\\Clip17\", \"AreaMask\", \"-1\", \"ClippingGeometry\", \"NO_MAINTAIN_EXTENT\")\n",
    "# Clipping the 2018 Raster\n",
    "arcpy.management.Clip(\"L1C_T12SVB_A015811_20180702T182303\", \"399503.493949503 3655293.91467014 460228.776956608 3700482.37396411\", r\"C:\\Users\\Alexander\\Desktop\\GIS Work\\GIS5571\\GIS5571 Final\\GIS5571 Final.gdb\\Clip18\", \"AreaMask\", \"-1\", \"ClippingGeometry\", \"NO_MAINTAIN_EXTENT\")"
   ]
  },
  {
   "cell_type": "code",
   "execution_count": null,
   "metadata": {},
   "outputs": [],
   "source": [
    "# This cell runs the unsupervised pixel based iso culster classification on each of the rasters\n",
    "# Classifying the 2017 clipped raster\n",
    "Output_classified_raster = arcpy.sa.IsoClusterUnsupervisedClassification(\"Clip17\", 2, 20, 10, None); Output_classified_raster.save(r\"C:\\Users\\Alexander\\Desktop\\GIS Work\\GIS5571\\GIS5571 Final\\GIS5571 Final.gdb\\Clip17_Class\")\n",
    "# Classifying the 2018 clipped raster\n",
    "Output_classified_raster = arcpy.sa.IsoClusterUnsupervisedClassification(\"Clip18\", 2, 20, 10, None); Output_classified_raster.save(r\"C:\\Users\\Alexander\\Desktop\\GIS Work\\GIS5571\\GIS5571 Final\\GIS5571 Final.gdb\\Clip18_Class\")\n",
    "\n",
    "# The \"Change Detection Wizard\" within the Imagery toolbar was used to created the change detection raster named \"Change17_18\"\n",
    "# This line calculates the raster statistics used to determine ratio and averages of the types of changes\n",
    "arcpy.management.CalculateStatistics(\"Change17_18\", 1, 1, [], \"OVERWRITE\", r\"in_memory\\feature_set1\")\n"
   ]
  }
 ],
 "metadata": {
  "kernelspec": {
   "display_name": "ArcGISPro",
   "language": "Python",
   "name": "python3"
  },
  "language_info": {
   "file_extension": ".py",
   "name": "python",
   "version": "3"
  }
 },
 "nbformat": 4,
 "nbformat_minor": 2
}

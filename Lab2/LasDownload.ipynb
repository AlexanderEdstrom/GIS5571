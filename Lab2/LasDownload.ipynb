{
 "cells": [
  {
   "cell_type": "code",
   "execution_count": 21,
   "metadata": {},
   "outputs": [],
   "source": [
    "import requests\n",
    "import urllib3\n",
    "\n",
    "urllib3.disable_warnings()\n",
    "# This simply imports the requests package and the urllib3 package. Then I disable the warnings given as the URL does not have certificate verification enabled\n",
    "\n",
    "# This downloads the .las file from the server\n",
    "r = requests.get('https://resources.gisdata.mn.gov/pub/data/elevation/lidar/examples/lidar_sample/las/4342-14-05.las', auth=('user','pass'), verify = False)\n",
    "\n",
    "# This converts the .las to a TIN and names it \"LasDatasetToTin\" I added random node count thinning to reduce the number of nodes down to 500,000. For a real project this may be too low, bit for a simple layout, this is fine\n",
    "arcpy.ddd.LasDatasetToTin(\"4342-14-05.las\", r\"C:\\Users\\Alexander\\Desktop\\GIS Work\\GIS5571\\Lab2\\GIS 5571 Lab2\\c4342-14-05_LasDatasetToTin\", \"RANDOM\", \"NODE_COUNT\", 500000, 1000000000, 1, \"CLIP\")\n",
    "\n",
    "# This converts the .las to a Raster ot DEM and names it \"LasToRaster\"\n",
    "with arcpy.EnvManager(scratchWorkspace=r\"C:\\Users\\Alexander\\Desktop\\GIS Work\\GIS5571\\Lab2\\GIS 5571 Lab2\\GIS 5571 Lab2.gdb\", workspace=r\"C:\\Users\\Alexander\\Desktop\\GIS Work\\GIS5571\\Lab2\\GIS 5571 Lab2\\GIS 5571 Lab2.gdb\"):\n",
    "    arcpy.conversion.LasDatasetToRaster(\"4342-14-05.las\", r\"c:\\Users\\alexander\\Desktop\\GIS Work\\GIS5571\\Lab2\\gis 5571 lab2\\gis 5571 lab2.gdb\\LasToRaster\", \"ELEVATION\", \"BINNING AVERAGE LINEAR\", \"FLOAT\", \"CELLSIZE\", 10, 1)\n"
   ]
  },
  {
   "cell_type": "code",
   "execution_count": 3,
   "metadata": {},
   "outputs": [
    {
     "data": {
      "text/plain": [
       "'C:\\\\Users\\\\Alexander\\\\Desktop\\\\GIS Work\\\\GIS5571\\\\Lab2\\\\GIS 5571 Lab2\\\\TINPDF.pdf'"
      ]
     },
     "execution_count": 3,
     "metadata": {},
     "output_type": "execute_result"
    }
   ],
   "source": [
    "# This code cell will us the arcpy.mp module to create two basic layouts, one for the TIN and one for the DEM\n",
    "\n",
    "# This sets the working project as the current project open\n",
    "aprx = arcpy.mp.ArcGISProject('current')\n",
    "\n",
    "# The following code finds the map, adds the LasToRaster layer to the map and the layout and then export the layout as a PDF\n",
    "m = aprx.listMaps(\"Map\") [0]\n",
    "lyrFile = arcpy.mp.LayerFile(r\"C:\\Users\\Alexander\\Desktop\\GIS Work\\GIS5571\\Lab2\\GIS 5571 Lab2\\LasToRaster.lyrx\")\n",
    "m.addLayer(lyrFile, \"TOP\")\n",
    "lyt = aprx.listLayouts(\"RasterLayout\")[0]\n",
    "lyt.exportToPDF(r\"C:\\Users\\Alexander\\Desktop\\GIS Work\\GIS5571\\Lab2\\GIS 5571 Lab2\\DEMPDF.pdf\", resolution = 300)\n",
    "\n",
    "# This section does the same thing for the TIN\n",
    "m = aprx.listMaps(\"Map\") [0]\n",
    "lyrFile = arcpy.mp.LayerFile(r\"C:\\Users\\Alexander\\Desktop\\GIS Work\\GIS5571\\Lab2\\GIS 5571 Lab2\\LasToTin.lyrx\")\n",
    "m.addLayer(lyrFile, \"TOP\")\n",
    "lyt = aprx.listLayouts(\"TINLayout\")[0]\n",
    "lyt.exportToPDF(r\"C:\\Users\\Alexander\\Desktop\\GIS Work\\GIS5571\\Lab2\\GIS 5571 Lab2\\TINPDF.pdf\", resolution = 300)"
   ]
  },
  {
   "cell_type": "code",
   "execution_count": null,
   "metadata": {},
   "outputs": [],
   "source": []
  }
 ],
 "metadata": {
  "kernelspec": {
   "display_name": "ArcGISPro",
   "language": "Python",
   "name": "python3"
  },
  "language_info": {
   "file_extension": ".py",
   "name": "python",
   "version": "3"
  }
 },
 "nbformat": 4,
 "nbformat_minor": 2
}
